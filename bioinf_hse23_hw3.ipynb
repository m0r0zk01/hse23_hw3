{
  "nbformat": 4,
  "nbformat_minor": 0,
  "metadata": {
    "colab": {
      "provenance": []
    },
    "kernelspec": {
      "name": "python3",
      "display_name": "Python 3"
    },
    "language_info": {
      "name": "python"
    }
  },
  "cells": [
    {
      "cell_type": "markdown",
      "source": [
        "### Загрузка данных"
      ],
      "metadata": {
        "id": "R25qwtEyVx2z"
      }
    },
    {
      "cell_type": "markdown",
      "source": [
        "Гайд по скачиванию:\n",
        "https://www.metagenomics.wiki/tools/fastq/ncbi-ftp-genome-download"
      ],
      "metadata": {
        "id": "P1AqeOAbn61s"
      }
    },
    {
      "cell_type": "code",
      "execution_count": 18,
      "metadata": {
        "id": "h06a6zdDVv1i",
        "colab": {
          "base_uri": "https://localhost:8080/"
        },
        "outputId": "7fd54073-f8c2-4804-e10a-7831db151b73"
      },
      "outputs": [
        {
          "output_type": "stream",
          "name": "stdout",
          "text": [
            "--2023-11-12 20:25:29--  https://ftp.ncbi.nlm.nih.gov/genomes/all/GCF/000/355/675/GCF_000355675.1_ASM35567v1/GCF_000355675.1_ASM35567v1_genomic.fna.gz\n",
            "Resolving ftp.ncbi.nlm.nih.gov (ftp.ncbi.nlm.nih.gov)... 130.14.250.12, 130.14.250.13, 2607:f220:41e:250::13, ...\n",
            "Connecting to ftp.ncbi.nlm.nih.gov (ftp.ncbi.nlm.nih.gov)|130.14.250.12|:443... connected.\n",
            "HTTP request sent, awaiting response... 200 OK\n",
            "Length: 1168222 (1.1M) [application/x-gzip]\n",
            "Saving to: ‘GCF_000355675.1_ASM35567v1_genomic.fna.gz’\n",
            "\n",
            "GCF_000355675.1_ASM 100%[===================>]   1.11M  2.08MB/s    in 0.5s    \n",
            "\n",
            "2023-11-12 20:25:30 (2.08 MB/s) - ‘GCF_000355675.1_ASM35567v1_genomic.fna.gz’ saved [1168222/1168222]\n",
            "\n",
            "--2023-11-12 20:25:30--  https://ftp.ncbi.nlm.nih.gov/genomes/all/GCF/000/355/675/GCF_000355675.1_ASM35567v1/GCF_000355675.1_ASM35567v1_genomic.gbff.gz\n",
            "Resolving ftp.ncbi.nlm.nih.gov (ftp.ncbi.nlm.nih.gov)... 130.14.250.12, 130.14.250.13, 2607:f220:41e:250::13, ...\n",
            "Connecting to ftp.ncbi.nlm.nih.gov (ftp.ncbi.nlm.nih.gov)|130.14.250.12|:443... connected.\n",
            "HTTP request sent, awaiting response... 200 OK\n",
            "Length: 2858934 (2.7M) [application/x-gzip]\n",
            "Saving to: ‘GCF_000355675.1_ASM35567v1_genomic.gbff.gz’\n",
            "\n",
            "GCF_000355675.1_ASM 100%[===================>]   2.73M  3.38MB/s    in 0.8s    \n",
            "\n",
            "2023-11-12 20:25:31 (3.38 MB/s) - ‘GCF_000355675.1_ASM35567v1_genomic.gbff.gz’ saved [2858934/2858934]\n",
            "\n",
            "gzip: GCF_000355675.1_ASM35567v1_genomic.fna already exists; do you wish to overwrite (y or n)? ^C\n",
            "gzip: GCF_000355675.1_ASM35567v1_genomic.gbff already exists; do you wish to overwrite (y or n)? ^C\n"
          ]
        }
      ],
      "source": [
        "import gzip\n",
        "\n",
        "!wget 'https://ftp.ncbi.nlm.nih.gov/genomes/all/GCF/000/355/675/GCF_000355675.1_ASM35567v1/GCF_000355675.1_ASM35567v1_genomic.fna.gz'\n",
        "!wget 'https://ftp.ncbi.nlm.nih.gov/genomes/all/GCF/000/355/675/GCF_000355675.1_ASM35567v1/GCF_000355675.1_ASM35567v1_genomic.gbff.gz'\n",
        "\n",
        "!gunzip GCF_000355675.1_ASM35567v1_genomic.fna.gz\n",
        "!gunzip GCF_000355675.1_ASM35567v1_genomic.gbff.gz"
      ]
    },
    {
      "cell_type": "markdown",
      "source": [
        "### Reading sequences"
      ],
      "metadata": {
        "id": "PRI3rBPwsAnG"
      }
    },
    {
      "cell_type": "code",
      "source": [
        "!pip install bio"
      ],
      "metadata": {
        "colab": {
          "base_uri": "https://localhost:8080/"
        },
        "id": "DhTpHAOFsij8",
        "outputId": "73a0bd22-2a5b-4f23-d060-f23ea445c59f"
      },
      "execution_count": 19,
      "outputs": [
        {
          "output_type": "stream",
          "name": "stdout",
          "text": [
            "Requirement already satisfied: bio in /usr/local/lib/python3.10/dist-packages (1.6.0)\n",
            "Requirement already satisfied: biopython>=1.80 in /usr/local/lib/python3.10/dist-packages (from bio) (1.81)\n",
            "Requirement already satisfied: requests in /usr/local/lib/python3.10/dist-packages (from bio) (2.31.0)\n",
            "Requirement already satisfied: tqdm in /usr/local/lib/python3.10/dist-packages (from bio) (4.66.1)\n",
            "Requirement already satisfied: mygene in /usr/local/lib/python3.10/dist-packages (from bio) (3.2.2)\n",
            "Requirement already satisfied: pandas in /usr/local/lib/python3.10/dist-packages (from bio) (1.5.3)\n",
            "Requirement already satisfied: pooch in /usr/local/lib/python3.10/dist-packages (from bio) (1.8.0)\n",
            "Requirement already satisfied: gprofiler-official in /usr/local/lib/python3.10/dist-packages (from bio) (1.0.0)\n",
            "Requirement already satisfied: numpy in /usr/local/lib/python3.10/dist-packages (from biopython>=1.80->bio) (1.23.5)\n",
            "Requirement already satisfied: biothings-client>=0.2.6 in /usr/local/lib/python3.10/dist-packages (from mygene->bio) (0.3.0)\n",
            "Requirement already satisfied: python-dateutil>=2.8.1 in /usr/local/lib/python3.10/dist-packages (from pandas->bio) (2.8.2)\n",
            "Requirement already satisfied: pytz>=2020.1 in /usr/local/lib/python3.10/dist-packages (from pandas->bio) (2023.3.post1)\n",
            "Requirement already satisfied: platformdirs>=2.5.0 in /usr/local/lib/python3.10/dist-packages (from pooch->bio) (3.11.0)\n",
            "Requirement already satisfied: packaging>=20.0 in /usr/local/lib/python3.10/dist-packages (from pooch->bio) (23.2)\n",
            "Requirement already satisfied: charset-normalizer<4,>=2 in /usr/local/lib/python3.10/dist-packages (from requests->bio) (3.3.2)\n",
            "Requirement already satisfied: idna<4,>=2.5 in /usr/local/lib/python3.10/dist-packages (from requests->bio) (3.4)\n",
            "Requirement already satisfied: urllib3<3,>=1.21.1 in /usr/local/lib/python3.10/dist-packages (from requests->bio) (2.0.7)\n",
            "Requirement already satisfied: certifi>=2017.4.17 in /usr/local/lib/python3.10/dist-packages (from requests->bio) (2023.7.22)\n",
            "Requirement already satisfied: six>=1.5 in /usr/local/lib/python3.10/dist-packages (from python-dateutil>=2.8.1->pandas->bio) (1.16.0)\n"
          ]
        }
      ]
    },
    {
      "cell_type": "code",
      "source": [
        "from Bio import SeqIO\n",
        "import numpy as np\n",
        "import pandas as pd\n",
        "from itertools import product\n",
        "import matplotlib.pyplot as plt\n",
        "\n",
        "seq = None\n",
        "gb = None\n",
        "\n",
        "# считываем скачанные файлы\n",
        "for record in SeqIO.parse(\"/content/GCF_000355675.1_ASM35567v1_genomic.fna\", \"fasta\"):\n",
        "    seq = record.seq\n",
        "\n",
        "for record in SeqIO.parse('/content/GCF_000355675.1_ASM35567v1_genomic.gbff', 'genbank'):\n",
        "  gb = record"
      ],
      "metadata": {
        "id": "Hdfqxf6GsU2f"
      },
      "execution_count": 20,
      "outputs": []
    },
    {
      "cell_type": "code",
      "source": [
        "start, end = gb.features[0].location.start, None\n",
        "\n",
        "ncod = []\n",
        "cod = []\n",
        "\n",
        "# записываем кодирующие и некодирующие последовательности\n",
        "for i in range(len(gb.features)):\n",
        "  feature = gb.features[i]\n",
        "  fseq = feature.extract(seq)\n",
        "\n",
        "  end = feature.location.start\n",
        "\n",
        "  if feature.type == 'CDS' and fseq[:3] == 'ATG' and len(fseq) % 3 == 0:\n",
        "    cod.append(fseq.__str__())\n",
        "\n",
        "    if len(seq[start:end]) != 0:\n",
        "      ncod.append(seq[start:end].__str__())\n",
        "\n",
        "    start = feature.location.end"
      ],
      "metadata": {
        "id": "sH7bFKCUivKk"
      },
      "execution_count": 21,
      "outputs": []
    },
    {
      "cell_type": "markdown",
      "source": [
        "### Initial probabilities"
      ],
      "metadata": {
        "id": "edXl5ImIzxzu"
      }
    },
    {
      "cell_type": "code",
      "source": [
        "def seq_probs(seq):\n",
        "  return np.array([\n",
        "      seq.count('T'), seq.count('C'),\n",
        "      seq.count('A'), seq.count('G')\n",
        "    ]) / len(seq)\n",
        "\n",
        "def cod_probs(seq):\n",
        "  res = []\n",
        "  for i in range(3):\n",
        "    res.append(seq_probs(seq[i::3]))\n",
        "  return np.array(res)\n",
        "\n",
        "def make_table1(cod_seqs, ncod_seqs):\n",
        "  table1 = pd.DataFrame(np.vstack((cod_probs(''.join(cod_seqs)), seq_probs(''.join(ncod_seqs)))).T,\n",
        "                       index=['T', 'C', 'A', 'G'],\n",
        "                       columns=[f'pos{i}' for i in range(1, 4)] + ['nc'])\n",
        "  return table1"
      ],
      "metadata": {
        "id": "Oa8Kgj4fuQwo"
      },
      "execution_count": 22,
      "outputs": []
    },
    {
      "cell_type": "code",
      "source": [
        "t1 = make_table1(cod, ncod)\n",
        "t1"
      ],
      "metadata": {
        "id": "vZeDJBqfzTJf",
        "outputId": "c0f27ce1-9461-49fd-e71c-564e1bf3739a",
        "colab": {
          "base_uri": "https://localhost:8080/",
          "height": 175
        }
      },
      "execution_count": 23,
      "outputs": [
        {
          "output_type": "execute_result",
          "data": {
            "text/plain": [
              "       pos1      pos2      pos3        nc\n",
              "T  0.181178  0.296080  0.315009  0.272761\n",
              "C  0.206735  0.227039  0.233246  0.228978\n",
              "A  0.256919  0.302102  0.238526  0.276553\n",
              "G  0.355168  0.174779  0.213219  0.221708"
            ],
            "text/html": [
              "\n",
              "  <div id=\"df-e5c6dcae-befe-45ee-a7ff-30eadd53d2da\" class=\"colab-df-container\">\n",
              "    <div>\n",
              "<style scoped>\n",
              "    .dataframe tbody tr th:only-of-type {\n",
              "        vertical-align: middle;\n",
              "    }\n",
              "\n",
              "    .dataframe tbody tr th {\n",
              "        vertical-align: top;\n",
              "    }\n",
              "\n",
              "    .dataframe thead th {\n",
              "        text-align: right;\n",
              "    }\n",
              "</style>\n",
              "<table border=\"1\" class=\"dataframe\">\n",
              "  <thead>\n",
              "    <tr style=\"text-align: right;\">\n",
              "      <th></th>\n",
              "      <th>pos1</th>\n",
              "      <th>pos2</th>\n",
              "      <th>pos3</th>\n",
              "      <th>nc</th>\n",
              "    </tr>\n",
              "  </thead>\n",
              "  <tbody>\n",
              "    <tr>\n",
              "      <th>T</th>\n",
              "      <td>0.181178</td>\n",
              "      <td>0.296080</td>\n",
              "      <td>0.315009</td>\n",
              "      <td>0.272761</td>\n",
              "    </tr>\n",
              "    <tr>\n",
              "      <th>C</th>\n",
              "      <td>0.206735</td>\n",
              "      <td>0.227039</td>\n",
              "      <td>0.233246</td>\n",
              "      <td>0.228978</td>\n",
              "    </tr>\n",
              "    <tr>\n",
              "      <th>A</th>\n",
              "      <td>0.256919</td>\n",
              "      <td>0.302102</td>\n",
              "      <td>0.238526</td>\n",
              "      <td>0.276553</td>\n",
              "    </tr>\n",
              "    <tr>\n",
              "      <th>G</th>\n",
              "      <td>0.355168</td>\n",
              "      <td>0.174779</td>\n",
              "      <td>0.213219</td>\n",
              "      <td>0.221708</td>\n",
              "    </tr>\n",
              "  </tbody>\n",
              "</table>\n",
              "</div>\n",
              "    <div class=\"colab-df-buttons\">\n",
              "\n",
              "  <div class=\"colab-df-container\">\n",
              "    <button class=\"colab-df-convert\" onclick=\"convertToInteractive('df-e5c6dcae-befe-45ee-a7ff-30eadd53d2da')\"\n",
              "            title=\"Convert this dataframe to an interactive table.\"\n",
              "            style=\"display:none;\">\n",
              "\n",
              "  <svg xmlns=\"http://www.w3.org/2000/svg\" height=\"24px\" viewBox=\"0 -960 960 960\">\n",
              "    <path d=\"M120-120v-720h720v720H120Zm60-500h600v-160H180v160Zm220 220h160v-160H400v160Zm0 220h160v-160H400v160ZM180-400h160v-160H180v160Zm440 0h160v-160H620v160ZM180-180h160v-160H180v160Zm440 0h160v-160H620v160Z\"/>\n",
              "  </svg>\n",
              "    </button>\n",
              "\n",
              "  <style>\n",
              "    .colab-df-container {\n",
              "      display:flex;\n",
              "      gap: 12px;\n",
              "    }\n",
              "\n",
              "    .colab-df-convert {\n",
              "      background-color: #E8F0FE;\n",
              "      border: none;\n",
              "      border-radius: 50%;\n",
              "      cursor: pointer;\n",
              "      display: none;\n",
              "      fill: #1967D2;\n",
              "      height: 32px;\n",
              "      padding: 0 0 0 0;\n",
              "      width: 32px;\n",
              "    }\n",
              "\n",
              "    .colab-df-convert:hover {\n",
              "      background-color: #E2EBFA;\n",
              "      box-shadow: 0px 1px 2px rgba(60, 64, 67, 0.3), 0px 1px 3px 1px rgba(60, 64, 67, 0.15);\n",
              "      fill: #174EA6;\n",
              "    }\n",
              "\n",
              "    .colab-df-buttons div {\n",
              "      margin-bottom: 4px;\n",
              "    }\n",
              "\n",
              "    [theme=dark] .colab-df-convert {\n",
              "      background-color: #3B4455;\n",
              "      fill: #D2E3FC;\n",
              "    }\n",
              "\n",
              "    [theme=dark] .colab-df-convert:hover {\n",
              "      background-color: #434B5C;\n",
              "      box-shadow: 0px 1px 3px 1px rgba(0, 0, 0, 0.15);\n",
              "      filter: drop-shadow(0px 1px 2px rgba(0, 0, 0, 0.3));\n",
              "      fill: #FFFFFF;\n",
              "    }\n",
              "  </style>\n",
              "\n",
              "    <script>\n",
              "      const buttonEl =\n",
              "        document.querySelector('#df-e5c6dcae-befe-45ee-a7ff-30eadd53d2da button.colab-df-convert');\n",
              "      buttonEl.style.display =\n",
              "        google.colab.kernel.accessAllowed ? 'block' : 'none';\n",
              "\n",
              "      async function convertToInteractive(key) {\n",
              "        const element = document.querySelector('#df-e5c6dcae-befe-45ee-a7ff-30eadd53d2da');\n",
              "        const dataTable =\n",
              "          await google.colab.kernel.invokeFunction('convertToInteractive',\n",
              "                                                    [key], {});\n",
              "        if (!dataTable) return;\n",
              "\n",
              "        const docLinkHtml = 'Like what you see? Visit the ' +\n",
              "          '<a target=\"_blank\" href=https://colab.research.google.com/notebooks/data_table.ipynb>data table notebook</a>'\n",
              "          + ' to learn more about interactive tables.';\n",
              "        element.innerHTML = '';\n",
              "        dataTable['output_type'] = 'display_data';\n",
              "        await google.colab.output.renderOutput(dataTable, element);\n",
              "        const docLink = document.createElement('div');\n",
              "        docLink.innerHTML = docLinkHtml;\n",
              "        element.appendChild(docLink);\n",
              "      }\n",
              "    </script>\n",
              "  </div>\n",
              "\n",
              "\n",
              "<div id=\"df-ac7ed177-0ad0-4c72-ae6d-ffeea85ce794\">\n",
              "  <button class=\"colab-df-quickchart\" onclick=\"quickchart('df-ac7ed177-0ad0-4c72-ae6d-ffeea85ce794')\"\n",
              "            title=\"Suggest charts\"\n",
              "            style=\"display:none;\">\n",
              "\n",
              "<svg xmlns=\"http://www.w3.org/2000/svg\" height=\"24px\"viewBox=\"0 0 24 24\"\n",
              "     width=\"24px\">\n",
              "    <g>\n",
              "        <path d=\"M19 3H5c-1.1 0-2 .9-2 2v14c0 1.1.9 2 2 2h14c1.1 0 2-.9 2-2V5c0-1.1-.9-2-2-2zM9 17H7v-7h2v7zm4 0h-2V7h2v10zm4 0h-2v-4h2v4z\"/>\n",
              "    </g>\n",
              "</svg>\n",
              "  </button>\n",
              "\n",
              "<style>\n",
              "  .colab-df-quickchart {\n",
              "      --bg-color: #E8F0FE;\n",
              "      --fill-color: #1967D2;\n",
              "      --hover-bg-color: #E2EBFA;\n",
              "      --hover-fill-color: #174EA6;\n",
              "      --disabled-fill-color: #AAA;\n",
              "      --disabled-bg-color: #DDD;\n",
              "  }\n",
              "\n",
              "  [theme=dark] .colab-df-quickchart {\n",
              "      --bg-color: #3B4455;\n",
              "      --fill-color: #D2E3FC;\n",
              "      --hover-bg-color: #434B5C;\n",
              "      --hover-fill-color: #FFFFFF;\n",
              "      --disabled-bg-color: #3B4455;\n",
              "      --disabled-fill-color: #666;\n",
              "  }\n",
              "\n",
              "  .colab-df-quickchart {\n",
              "    background-color: var(--bg-color);\n",
              "    border: none;\n",
              "    border-radius: 50%;\n",
              "    cursor: pointer;\n",
              "    display: none;\n",
              "    fill: var(--fill-color);\n",
              "    height: 32px;\n",
              "    padding: 0;\n",
              "    width: 32px;\n",
              "  }\n",
              "\n",
              "  .colab-df-quickchart:hover {\n",
              "    background-color: var(--hover-bg-color);\n",
              "    box-shadow: 0 1px 2px rgba(60, 64, 67, 0.3), 0 1px 3px 1px rgba(60, 64, 67, 0.15);\n",
              "    fill: var(--button-hover-fill-color);\n",
              "  }\n",
              "\n",
              "  .colab-df-quickchart-complete:disabled,\n",
              "  .colab-df-quickchart-complete:disabled:hover {\n",
              "    background-color: var(--disabled-bg-color);\n",
              "    fill: var(--disabled-fill-color);\n",
              "    box-shadow: none;\n",
              "  }\n",
              "\n",
              "  .colab-df-spinner {\n",
              "    border: 2px solid var(--fill-color);\n",
              "    border-color: transparent;\n",
              "    border-bottom-color: var(--fill-color);\n",
              "    animation:\n",
              "      spin 1s steps(1) infinite;\n",
              "  }\n",
              "\n",
              "  @keyframes spin {\n",
              "    0% {\n",
              "      border-color: transparent;\n",
              "      border-bottom-color: var(--fill-color);\n",
              "      border-left-color: var(--fill-color);\n",
              "    }\n",
              "    20% {\n",
              "      border-color: transparent;\n",
              "      border-left-color: var(--fill-color);\n",
              "      border-top-color: var(--fill-color);\n",
              "    }\n",
              "    30% {\n",
              "      border-color: transparent;\n",
              "      border-left-color: var(--fill-color);\n",
              "      border-top-color: var(--fill-color);\n",
              "      border-right-color: var(--fill-color);\n",
              "    }\n",
              "    40% {\n",
              "      border-color: transparent;\n",
              "      border-right-color: var(--fill-color);\n",
              "      border-top-color: var(--fill-color);\n",
              "    }\n",
              "    60% {\n",
              "      border-color: transparent;\n",
              "      border-right-color: var(--fill-color);\n",
              "    }\n",
              "    80% {\n",
              "      border-color: transparent;\n",
              "      border-right-color: var(--fill-color);\n",
              "      border-bottom-color: var(--fill-color);\n",
              "    }\n",
              "    90% {\n",
              "      border-color: transparent;\n",
              "      border-bottom-color: var(--fill-color);\n",
              "    }\n",
              "  }\n",
              "</style>\n",
              "\n",
              "  <script>\n",
              "    async function quickchart(key) {\n",
              "      const quickchartButtonEl =\n",
              "        document.querySelector('#' + key + ' button');\n",
              "      quickchartButtonEl.disabled = true;  // To prevent multiple clicks.\n",
              "      quickchartButtonEl.classList.add('colab-df-spinner');\n",
              "      try {\n",
              "        const charts = await google.colab.kernel.invokeFunction(\n",
              "            'suggestCharts', [key], {});\n",
              "      } catch (error) {\n",
              "        console.error('Error during call to suggestCharts:', error);\n",
              "      }\n",
              "      quickchartButtonEl.classList.remove('colab-df-spinner');\n",
              "      quickchartButtonEl.classList.add('colab-df-quickchart-complete');\n",
              "    }\n",
              "    (() => {\n",
              "      let quickchartButtonEl =\n",
              "        document.querySelector('#df-ac7ed177-0ad0-4c72-ae6d-ffeea85ce794 button');\n",
              "      quickchartButtonEl.style.display =\n",
              "        google.colab.kernel.accessAllowed ? 'block' : 'none';\n",
              "    })();\n",
              "  </script>\n",
              "</div>\n",
              "    </div>\n",
              "  </div>\n"
            ]
          },
          "metadata": {},
          "execution_count": 23
        }
      ]
    },
    {
      "cell_type": "markdown",
      "source": [
        "### Transition probabilities"
      ],
      "metadata": {
        "id": "m5ZdGrC3z2gv"
      }
    },
    {
      "cell_type": "code",
      "source": [
        "def cod_dprobs(seqs):\n",
        "  dcounts = dict(\n",
        "    zip([1, 2, 3],\n",
        "        [dict(zip([''.join(pair) for pair in product('TCAG', repeat=2)],\n",
        "                  [0] * 16)) for i in range(3)])\n",
        "    )\n",
        "  for seq in seqs:\n",
        "    for i in range(1, len(seq)):\n",
        "      dcounts[i % 3 + 1][seq[i-1:i+1]] += 1\n",
        "  return get_probs(dcounts)\n",
        "\n",
        "def ncod_dprobs(seqs):\n",
        "    dcounts =dict(zip([''.join(pair) for pair in product('TCAG', repeat=2)],\n",
        "                    [0] * 16))\n",
        "    for seq in seqs:\n",
        "      for i in range(1, len(seq)):\n",
        "        dcounts[seq[i-1:i+1]] += 1\n",
        "\n",
        "    return get_probs({0: dcounts})[0]\n",
        "\n",
        "def get_probs(dcounts):\n",
        "  for pos in dcounts:\n",
        "    nuc_groups = dict(zip('TCAG', [0] * 4))\n",
        "    for dup in dcounts[pos]:\n",
        "      nuc_groups[dup[0]] += dcounts[pos][dup]\n",
        "    for dup in dcounts[pos]:\n",
        "      dcounts[pos][dup] /= nuc_groups[dup[0]]\n",
        "  return dcounts\n",
        "\n",
        "def make_table2(cod_seqs, ncod_seqs):\n",
        "  table2 = pd.DataFrame(cod_dprobs(cod_seqs))\n",
        "  table2[4] = pd.Series(ncod_dprobs(ncod_seqs))\n",
        "  table2.rename(columns=dict(zip(np.arange(1, 5),\n",
        "                                 [f'pos{i}' for i in range(1, 4)] + ['nc'])),\n",
        "                inplace=True)\n",
        "  table2.index = [prob_notation(idx) for idx in table2.index.values]\n",
        "  return table2\n",
        "\n",
        "def prob_notation(st):\n",
        "  return st[1] + '|' + st[0]"
      ],
      "metadata": {
        "id": "PXMExJTij5zi"
      },
      "execution_count": 24,
      "outputs": []
    },
    {
      "cell_type": "code",
      "source": [
        "t2 = make_table2(cod, ncod)\n",
        "t2"
      ],
      "metadata": {
        "id": "fuFE8M1gyeL4",
        "outputId": "757f2328-8707-4cca-a998-d5301c22a211",
        "colab": {
          "base_uri": "https://localhost:8080/",
          "height": 551
        }
      },
      "execution_count": 25,
      "outputs": [
        {
          "output_type": "execute_result",
          "data": {
            "text/plain": [
              "         pos1      pos2      pos3        nc\n",
              "T|T  0.185527  0.497941  0.316282  0.317919\n",
              "C|T  0.189643  0.199367  0.179967  0.209093\n",
              "A|T  0.249195  0.172458  0.221521  0.243747\n",
              "G|T  0.375635  0.130234  0.282230  0.229240\n",
              "T|C  0.185286  0.248599  0.269786  0.252206\n",
              "C|C  0.156258  0.198068  0.244280  0.213760\n",
              "A|C  0.276169  0.315114  0.244600  0.286907\n",
              "G|C  0.382287  0.238219  0.241334  0.247126\n",
              "T|A  0.179924  0.333963  0.307865  0.269894\n",
              "C|A  0.194132  0.213885  0.193588  0.205527\n",
              "A|A  0.263011  0.327792  0.331031  0.320489\n",
              "G|A  0.362933  0.124360  0.167515  0.204090\n",
              "T|G  0.174166  0.193341  0.383943  0.242153\n",
              "C|G  0.304262  0.267534  0.377719  0.299704\n",
              "A|G  0.230072  0.342077  0.099548  0.250968\n",
              "G|G  0.291500  0.197048  0.138790  0.207176"
            ],
            "text/html": [
              "\n",
              "  <div id=\"df-03c1c3ba-fb96-42ab-859b-ba98254b48aa\" class=\"colab-df-container\">\n",
              "    <div>\n",
              "<style scoped>\n",
              "    .dataframe tbody tr th:only-of-type {\n",
              "        vertical-align: middle;\n",
              "    }\n",
              "\n",
              "    .dataframe tbody tr th {\n",
              "        vertical-align: top;\n",
              "    }\n",
              "\n",
              "    .dataframe thead th {\n",
              "        text-align: right;\n",
              "    }\n",
              "</style>\n",
              "<table border=\"1\" class=\"dataframe\">\n",
              "  <thead>\n",
              "    <tr style=\"text-align: right;\">\n",
              "      <th></th>\n",
              "      <th>pos1</th>\n",
              "      <th>pos2</th>\n",
              "      <th>pos3</th>\n",
              "      <th>nc</th>\n",
              "    </tr>\n",
              "  </thead>\n",
              "  <tbody>\n",
              "    <tr>\n",
              "      <th>T|T</th>\n",
              "      <td>0.185527</td>\n",
              "      <td>0.497941</td>\n",
              "      <td>0.316282</td>\n",
              "      <td>0.317919</td>\n",
              "    </tr>\n",
              "    <tr>\n",
              "      <th>C|T</th>\n",
              "      <td>0.189643</td>\n",
              "      <td>0.199367</td>\n",
              "      <td>0.179967</td>\n",
              "      <td>0.209093</td>\n",
              "    </tr>\n",
              "    <tr>\n",
              "      <th>A|T</th>\n",
              "      <td>0.249195</td>\n",
              "      <td>0.172458</td>\n",
              "      <td>0.221521</td>\n",
              "      <td>0.243747</td>\n",
              "    </tr>\n",
              "    <tr>\n",
              "      <th>G|T</th>\n",
              "      <td>0.375635</td>\n",
              "      <td>0.130234</td>\n",
              "      <td>0.282230</td>\n",
              "      <td>0.229240</td>\n",
              "    </tr>\n",
              "    <tr>\n",
              "      <th>T|C</th>\n",
              "      <td>0.185286</td>\n",
              "      <td>0.248599</td>\n",
              "      <td>0.269786</td>\n",
              "      <td>0.252206</td>\n",
              "    </tr>\n",
              "    <tr>\n",
              "      <th>C|C</th>\n",
              "      <td>0.156258</td>\n",
              "      <td>0.198068</td>\n",
              "      <td>0.244280</td>\n",
              "      <td>0.213760</td>\n",
              "    </tr>\n",
              "    <tr>\n",
              "      <th>A|C</th>\n",
              "      <td>0.276169</td>\n",
              "      <td>0.315114</td>\n",
              "      <td>0.244600</td>\n",
              "      <td>0.286907</td>\n",
              "    </tr>\n",
              "    <tr>\n",
              "      <th>G|C</th>\n",
              "      <td>0.382287</td>\n",
              "      <td>0.238219</td>\n",
              "      <td>0.241334</td>\n",
              "      <td>0.247126</td>\n",
              "    </tr>\n",
              "    <tr>\n",
              "      <th>T|A</th>\n",
              "      <td>0.179924</td>\n",
              "      <td>0.333963</td>\n",
              "      <td>0.307865</td>\n",
              "      <td>0.269894</td>\n",
              "    </tr>\n",
              "    <tr>\n",
              "      <th>C|A</th>\n",
              "      <td>0.194132</td>\n",
              "      <td>0.213885</td>\n",
              "      <td>0.193588</td>\n",
              "      <td>0.205527</td>\n",
              "    </tr>\n",
              "    <tr>\n",
              "      <th>A|A</th>\n",
              "      <td>0.263011</td>\n",
              "      <td>0.327792</td>\n",
              "      <td>0.331031</td>\n",
              "      <td>0.320489</td>\n",
              "    </tr>\n",
              "    <tr>\n",
              "      <th>G|A</th>\n",
              "      <td>0.362933</td>\n",
              "      <td>0.124360</td>\n",
              "      <td>0.167515</td>\n",
              "      <td>0.204090</td>\n",
              "    </tr>\n",
              "    <tr>\n",
              "      <th>T|G</th>\n",
              "      <td>0.174166</td>\n",
              "      <td>0.193341</td>\n",
              "      <td>0.383943</td>\n",
              "      <td>0.242153</td>\n",
              "    </tr>\n",
              "    <tr>\n",
              "      <th>C|G</th>\n",
              "      <td>0.304262</td>\n",
              "      <td>0.267534</td>\n",
              "      <td>0.377719</td>\n",
              "      <td>0.299704</td>\n",
              "    </tr>\n",
              "    <tr>\n",
              "      <th>A|G</th>\n",
              "      <td>0.230072</td>\n",
              "      <td>0.342077</td>\n",
              "      <td>0.099548</td>\n",
              "      <td>0.250968</td>\n",
              "    </tr>\n",
              "    <tr>\n",
              "      <th>G|G</th>\n",
              "      <td>0.291500</td>\n",
              "      <td>0.197048</td>\n",
              "      <td>0.138790</td>\n",
              "      <td>0.207176</td>\n",
              "    </tr>\n",
              "  </tbody>\n",
              "</table>\n",
              "</div>\n",
              "    <div class=\"colab-df-buttons\">\n",
              "\n",
              "  <div class=\"colab-df-container\">\n",
              "    <button class=\"colab-df-convert\" onclick=\"convertToInteractive('df-03c1c3ba-fb96-42ab-859b-ba98254b48aa')\"\n",
              "            title=\"Convert this dataframe to an interactive table.\"\n",
              "            style=\"display:none;\">\n",
              "\n",
              "  <svg xmlns=\"http://www.w3.org/2000/svg\" height=\"24px\" viewBox=\"0 -960 960 960\">\n",
              "    <path d=\"M120-120v-720h720v720H120Zm60-500h600v-160H180v160Zm220 220h160v-160H400v160Zm0 220h160v-160H400v160ZM180-400h160v-160H180v160Zm440 0h160v-160H620v160ZM180-180h160v-160H180v160Zm440 0h160v-160H620v160Z\"/>\n",
              "  </svg>\n",
              "    </button>\n",
              "\n",
              "  <style>\n",
              "    .colab-df-container {\n",
              "      display:flex;\n",
              "      gap: 12px;\n",
              "    }\n",
              "\n",
              "    .colab-df-convert {\n",
              "      background-color: #E8F0FE;\n",
              "      border: none;\n",
              "      border-radius: 50%;\n",
              "      cursor: pointer;\n",
              "      display: none;\n",
              "      fill: #1967D2;\n",
              "      height: 32px;\n",
              "      padding: 0 0 0 0;\n",
              "      width: 32px;\n",
              "    }\n",
              "\n",
              "    .colab-df-convert:hover {\n",
              "      background-color: #E2EBFA;\n",
              "      box-shadow: 0px 1px 2px rgba(60, 64, 67, 0.3), 0px 1px 3px 1px rgba(60, 64, 67, 0.15);\n",
              "      fill: #174EA6;\n",
              "    }\n",
              "\n",
              "    .colab-df-buttons div {\n",
              "      margin-bottom: 4px;\n",
              "    }\n",
              "\n",
              "    [theme=dark] .colab-df-convert {\n",
              "      background-color: #3B4455;\n",
              "      fill: #D2E3FC;\n",
              "    }\n",
              "\n",
              "    [theme=dark] .colab-df-convert:hover {\n",
              "      background-color: #434B5C;\n",
              "      box-shadow: 0px 1px 3px 1px rgba(0, 0, 0, 0.15);\n",
              "      filter: drop-shadow(0px 1px 2px rgba(0, 0, 0, 0.3));\n",
              "      fill: #FFFFFF;\n",
              "    }\n",
              "  </style>\n",
              "\n",
              "    <script>\n",
              "      const buttonEl =\n",
              "        document.querySelector('#df-03c1c3ba-fb96-42ab-859b-ba98254b48aa button.colab-df-convert');\n",
              "      buttonEl.style.display =\n",
              "        google.colab.kernel.accessAllowed ? 'block' : 'none';\n",
              "\n",
              "      async function convertToInteractive(key) {\n",
              "        const element = document.querySelector('#df-03c1c3ba-fb96-42ab-859b-ba98254b48aa');\n",
              "        const dataTable =\n",
              "          await google.colab.kernel.invokeFunction('convertToInteractive',\n",
              "                                                    [key], {});\n",
              "        if (!dataTable) return;\n",
              "\n",
              "        const docLinkHtml = 'Like what you see? Visit the ' +\n",
              "          '<a target=\"_blank\" href=https://colab.research.google.com/notebooks/data_table.ipynb>data table notebook</a>'\n",
              "          + ' to learn more about interactive tables.';\n",
              "        element.innerHTML = '';\n",
              "        dataTable['output_type'] = 'display_data';\n",
              "        await google.colab.output.renderOutput(dataTable, element);\n",
              "        const docLink = document.createElement('div');\n",
              "        docLink.innerHTML = docLinkHtml;\n",
              "        element.appendChild(docLink);\n",
              "      }\n",
              "    </script>\n",
              "  </div>\n",
              "\n",
              "\n",
              "<div id=\"df-bcdb078e-d28c-48c6-82d1-965ab51c581c\">\n",
              "  <button class=\"colab-df-quickchart\" onclick=\"quickchart('df-bcdb078e-d28c-48c6-82d1-965ab51c581c')\"\n",
              "            title=\"Suggest charts\"\n",
              "            style=\"display:none;\">\n",
              "\n",
              "<svg xmlns=\"http://www.w3.org/2000/svg\" height=\"24px\"viewBox=\"0 0 24 24\"\n",
              "     width=\"24px\">\n",
              "    <g>\n",
              "        <path d=\"M19 3H5c-1.1 0-2 .9-2 2v14c0 1.1.9 2 2 2h14c1.1 0 2-.9 2-2V5c0-1.1-.9-2-2-2zM9 17H7v-7h2v7zm4 0h-2V7h2v10zm4 0h-2v-4h2v4z\"/>\n",
              "    </g>\n",
              "</svg>\n",
              "  </button>\n",
              "\n",
              "<style>\n",
              "  .colab-df-quickchart {\n",
              "      --bg-color: #E8F0FE;\n",
              "      --fill-color: #1967D2;\n",
              "      --hover-bg-color: #E2EBFA;\n",
              "      --hover-fill-color: #174EA6;\n",
              "      --disabled-fill-color: #AAA;\n",
              "      --disabled-bg-color: #DDD;\n",
              "  }\n",
              "\n",
              "  [theme=dark] .colab-df-quickchart {\n",
              "      --bg-color: #3B4455;\n",
              "      --fill-color: #D2E3FC;\n",
              "      --hover-bg-color: #434B5C;\n",
              "      --hover-fill-color: #FFFFFF;\n",
              "      --disabled-bg-color: #3B4455;\n",
              "      --disabled-fill-color: #666;\n",
              "  }\n",
              "\n",
              "  .colab-df-quickchart {\n",
              "    background-color: var(--bg-color);\n",
              "    border: none;\n",
              "    border-radius: 50%;\n",
              "    cursor: pointer;\n",
              "    display: none;\n",
              "    fill: var(--fill-color);\n",
              "    height: 32px;\n",
              "    padding: 0;\n",
              "    width: 32px;\n",
              "  }\n",
              "\n",
              "  .colab-df-quickchart:hover {\n",
              "    background-color: var(--hover-bg-color);\n",
              "    box-shadow: 0 1px 2px rgba(60, 64, 67, 0.3), 0 1px 3px 1px rgba(60, 64, 67, 0.15);\n",
              "    fill: var(--button-hover-fill-color);\n",
              "  }\n",
              "\n",
              "  .colab-df-quickchart-complete:disabled,\n",
              "  .colab-df-quickchart-complete:disabled:hover {\n",
              "    background-color: var(--disabled-bg-color);\n",
              "    fill: var(--disabled-fill-color);\n",
              "    box-shadow: none;\n",
              "  }\n",
              "\n",
              "  .colab-df-spinner {\n",
              "    border: 2px solid var(--fill-color);\n",
              "    border-color: transparent;\n",
              "    border-bottom-color: var(--fill-color);\n",
              "    animation:\n",
              "      spin 1s steps(1) infinite;\n",
              "  }\n",
              "\n",
              "  @keyframes spin {\n",
              "    0% {\n",
              "      border-color: transparent;\n",
              "      border-bottom-color: var(--fill-color);\n",
              "      border-left-color: var(--fill-color);\n",
              "    }\n",
              "    20% {\n",
              "      border-color: transparent;\n",
              "      border-left-color: var(--fill-color);\n",
              "      border-top-color: var(--fill-color);\n",
              "    }\n",
              "    30% {\n",
              "      border-color: transparent;\n",
              "      border-left-color: var(--fill-color);\n",
              "      border-top-color: var(--fill-color);\n",
              "      border-right-color: var(--fill-color);\n",
              "    }\n",
              "    40% {\n",
              "      border-color: transparent;\n",
              "      border-right-color: var(--fill-color);\n",
              "      border-top-color: var(--fill-color);\n",
              "    }\n",
              "    60% {\n",
              "      border-color: transparent;\n",
              "      border-right-color: var(--fill-color);\n",
              "    }\n",
              "    80% {\n",
              "      border-color: transparent;\n",
              "      border-right-color: var(--fill-color);\n",
              "      border-bottom-color: var(--fill-color);\n",
              "    }\n",
              "    90% {\n",
              "      border-color: transparent;\n",
              "      border-bottom-color: var(--fill-color);\n",
              "    }\n",
              "  }\n",
              "</style>\n",
              "\n",
              "  <script>\n",
              "    async function quickchart(key) {\n",
              "      const quickchartButtonEl =\n",
              "        document.querySelector('#' + key + ' button');\n",
              "      quickchartButtonEl.disabled = true;  // To prevent multiple clicks.\n",
              "      quickchartButtonEl.classList.add('colab-df-spinner');\n",
              "      try {\n",
              "        const charts = await google.colab.kernel.invokeFunction(\n",
              "            'suggestCharts', [key], {});\n",
              "      } catch (error) {\n",
              "        console.error('Error during call to suggestCharts:', error);\n",
              "      }\n",
              "      quickchartButtonEl.classList.remove('colab-df-spinner');\n",
              "      quickchartButtonEl.classList.add('colab-df-quickchart-complete');\n",
              "    }\n",
              "    (() => {\n",
              "      let quickchartButtonEl =\n",
              "        document.querySelector('#df-bcdb078e-d28c-48c6-82d1-965ab51c581c button');\n",
              "      quickchartButtonEl.style.display =\n",
              "        google.colab.kernel.accessAllowed ? 'block' : 'none';\n",
              "    })();\n",
              "  </script>\n",
              "</div>\n",
              "    </div>\n",
              "  </div>\n"
            ]
          },
          "metadata": {},
          "execution_count": 25
        }
      ]
    },
    {
      "cell_type": "markdown",
      "source": [
        "TATTACTTC\n",
        "P(seq NC)=P(T|NC)*Pnc(A|T)*Pnc(T|A)*P(T|T)*P(A|T)..."
      ],
      "metadata": {
        "id": "N0wXgY4u8zTk"
      }
    },
    {
      "cell_type": "code",
      "source": [
        "P_seq_nc = t1['nc']['T'] * t2['nc']['A|T']*t2['nc']['T|A']*t2['nc']['T|T']*t2['nc']['A|T']*t2['nc']['C|A']*t2['nc']['T|C']*t2['nc']['T|T']*t2['nc']['C|T']\n",
        "P_seq_nc"
      ],
      "metadata": {
        "colab": {
          "base_uri": "https://localhost:8080/"
        },
        "id": "xMjqsO229A12",
        "outputId": "b3434a2a-d3cb-431f-adb2-8c1959621e23"
      },
      "execution_count": 26,
      "outputs": [
        {
          "output_type": "execute_result",
          "data": {
            "text/plain": [
              "4.7912814510831735e-06"
            ]
          },
          "metadata": {},
          "execution_count": 26
        }
      ]
    },
    {
      "cell_type": "code",
      "source": [
        "t2['nc']['A|T']"
      ],
      "metadata": {
        "colab": {
          "base_uri": "https://localhost:8080/"
        },
        "id": "2vvKFckcWRxF",
        "outputId": "1a832dc4-9b56-49ef-dd58-0d774d057004"
      },
      "execution_count": 27,
      "outputs": [
        {
          "output_type": "execute_result",
          "data": {
            "text/plain": [
              "0.24374699430844582"
            ]
          },
          "metadata": {},
          "execution_count": 27
        }
      ]
    },
    {
      "cell_type": "markdown",
      "source": [
        "![image.png](data:image/png;base64,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)"
      ],
      "metadata": {
        "id": "DrohLmLw_BLE"
      }
    },
    {
      "cell_type": "code",
      "source": [
        "P_seq_cod = t1['pos1']['T']   * t2['pos2']['A|T'] * t2['pos3']['T|A'] * \\\n",
        "            t2['pos1']['T|T'] * t2['pos2']['A|T'] * t2['pos3']['C|A'] * \\\n",
        "            t2['pos1']['T|C'] * t2['pos2']['T|T'] * t2['pos3']['C|T']\n",
        "P_seq_cod"
      ],
      "metadata": {
        "colab": {
          "base_uri": "https://localhost:8080/"
        },
        "id": "pDcPGX9K-nex",
        "outputId": "eed44db4-ee91-408d-e27c-f615f48440e7"
      },
      "execution_count": 28,
      "outputs": [
        {
          "output_type": "execute_result",
          "data": {
            "text/plain": [
              "9.893054273008876e-07"
            ]
          },
          "metadata": {},
          "execution_count": 28
        }
      ]
    },
    {
      "cell_type": "code",
      "source": [
        "P_nc = 0.5\n",
        "P_cod = 0.5\n",
        "P_nc_seq = P_nc * P_seq_nc / (P_nc * P_seq_nc + P_cod * P_seq_cod)\n",
        "P_nc_seq"
      ],
      "metadata": {
        "colab": {
          "base_uri": "https://localhost:8080/"
        },
        "id": "gP0AA7bp9MBl",
        "outputId": "e041f971-8c7f-4bfe-9759-ca86cf0d9d68"
      },
      "execution_count": 29,
      "outputs": [
        {
          "output_type": "execute_result",
          "data": {
            "text/plain": [
              "0.8288572686278104"
            ]
          },
          "metadata": {},
          "execution_count": 29
        }
      ]
    },
    {
      "cell_type": "code",
      "source": [
        "P_cod_seq = P_cod * P_seq_cod / (P_nc * P_seq_nc + P_cod * P_seq_cod)\n",
        "P_cod_seq"
      ],
      "metadata": {
        "colab": {
          "base_uri": "https://localhost:8080/"
        },
        "id": "43BebllaAHXI",
        "outputId": "86b5cae1-fc43-4bc1-d03b-4351d09376ce"
      },
      "execution_count": 30,
      "outputs": [
        {
          "output_type": "execute_result",
          "data": {
            "text/plain": [
              "0.17114273137218963"
            ]
          },
          "metadata": {},
          "execution_count": 30
        }
      ]
    },
    {
      "cell_type": "code",
      "source": [
        "1-P_nc_seq"
      ],
      "metadata": {
        "id": "arEAt90gXyC3",
        "outputId": "9fac6775-2897-486e-bf52-9b690e9228a2",
        "colab": {
          "base_uri": "https://localhost:8080/"
        }
      },
      "execution_count": 31,
      "outputs": [
        {
          "output_type": "execute_result",
          "data": {
            "text/plain": [
              "0.1711427313721896"
            ]
          },
          "metadata": {},
          "execution_count": 31
        }
      ]
    },
    {
      "cell_type": "markdown",
      "source": [
        "![image.png](data:image/png;base64,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)"
      ],
      "metadata": {
        "id": "L2jNCyfRBxHx"
      }
    },
    {
      "cell_type": "code",
      "source": [
        "P_seq_cod2 = t1['pos3']['T'] * \\\n",
        "            t2['pos1']['A|T'] * t2['pos2']['T|A'] * t2['pos3']['T|T'] * \\\n",
        "            t2['pos1']['A|T'] * t2['pos2']['C|A'] * t2['pos3']['T|C'] * \\\n",
        "            t2['pos1']['T|T'] * t2['pos2']['C|T']\n",
        "P_seq_cod2"
      ],
      "metadata": {
        "colab": {
          "base_uri": "https://localhost:8080/"
        },
        "id": "ByHr6oXsBzVU",
        "outputId": "53623fd1-eaa6-45b7-86ed-3551da6c0b4c"
      },
      "execution_count": 32,
      "outputs": [
        {
          "output_type": "execute_result",
          "data": {
            "text/plain": [
              "4.409967752533561e-06"
            ]
          },
          "metadata": {},
          "execution_count": 32
        }
      ]
    },
    {
      "cell_type": "markdown",
      "source": [
        "### Prediction"
      ],
      "metadata": {
        "id": "PsyOI2zYfd_g"
      }
    },
    {
      "cell_type": "code",
      "source": [
        "def cod_proba(seq, t1, t2, frame=1):\n",
        "\n",
        "  if len(seq) == 0:\n",
        "    print('No sequence')\n",
        "    return None\n",
        "\n",
        "  if frame not in [1, 2, 3]:\n",
        "    print('No such frame')\n",
        "    return None\n",
        "\n",
        "  log_prob = np.log(t1[f'pos{frame}'][seq[0]])\n",
        "\n",
        "  prev_nuc = seq[0]\n",
        "  for i, nuc in enumerate(seq[1:], 1):\n",
        "    pos = (frame + i - 1) % 3 + 1\n",
        "    pair = '{}|{}'.format(nuc, prev_nuc)\n",
        "    log_prob += np.log(t2[f'pos{pos}'][pair])\n",
        "    prev_nuc = nuc\n",
        "\n",
        "  return np.exp(log_prob)\n",
        "\n",
        "def ncod_proba(seq, t1, t2):\n",
        "  if len(seq) == 0:\n",
        "    print('No sequence')\n",
        "    return None\n",
        "\n",
        "  log_prob = np.log(t1['nc'][seq[0]])\n",
        "  prev_nuc = seq[0]\n",
        "  for i, nuc in enumerate(seq[1:], 1):\n",
        "    pair = '{}|{}'.format(nuc, prev_nuc)\n",
        "    log_prob += np.log(t2[f'nc'][pair])\n",
        "    prev_nuc = nuc\n",
        "\n",
        "  return np.exp(log_prob)\n",
        "\n",
        "def get_cod_probs(seq, t1, t2):\n",
        "  prob1 = cod_proba(seq, t1, t2, frame=1)\n",
        "  prob2 = cod_proba(seq, t1, t2, frame=2)\n",
        "  prob3 = cod_proba(seq, t1, t2, frame=3)\n",
        "  probnc = ncod_proba(seq, t1, t2)\n",
        "  total = prob1 + prob2 + prob3 + probnc\n",
        "  return {\n",
        "      'prob1': prob1 / total,\n",
        "      'prob2': prob2 / total,\n",
        "      'prob3': prob3 / total,\n",
        "      'probnc': probnc / total\n",
        "    }"
      ],
      "metadata": {
        "id": "v3imen1Y0R3P"
      },
      "execution_count": 35,
      "outputs": []
    },
    {
      "cell_type": "code",
      "source": [
        "def plot_graph(data, start, end, step):\n",
        "  fig, (ax1, ax2, ax3, axnc) = plt.subplots(4, 1, figsize=(15, 15))\n",
        "\n",
        "  x = range(start, end, step)\n",
        "\n",
        "  ax1.plot(x, data['prob1'])\n",
        "  ax2.plot(x, data['prob2'])\n",
        "  ax3.plot(x, data['prob3'])\n",
        "  axnc.plot(x, data['probnc'])\n",
        "\n",
        "  ax1.set_title('Codon position 1')\n",
        "  ax2.set_title('Codon position 2')\n",
        "  ax3.set_title('Codon position 3')\n",
        "  axnc.set_title('nc')\n",
        "\n",
        "  plt.plot()\n",
        "\n",
        "\n",
        "start = 0\n",
        "end = 3000\n",
        "step = 12\n",
        "window = 96\n",
        "pos_probs = {\n",
        "  'prob1': [],\n",
        "  'prob2': [],\n",
        "  'prob3': [],\n",
        "  'probnc': [],\n",
        "}\n",
        "for i in range(start, end, step):\n",
        "  cod_probs = get_cod_probs(seq[i: i + window], t1, t2)\n",
        "  for k, v in cod_probs.items():\n",
        "    pos_probs[k].append(v)\n",
        "\n",
        "plot_graph(pos_probs, start, end, step)"
      ],
      "metadata": {
        "colab": {
          "base_uri": "https://localhost:8080/",
          "height": 1000
        },
        "id": "aZAlvds9qEAD",
        "outputId": "574ef8f6-06e9-4967-a4d1-7897bc0224c6"
      },
      "execution_count": 45,
      "outputs": [
        {
          "output_type": "display_data",
          "data": {
            "text/plain": [
              "<Figure size 1500x1500 with 4 Axes>"
            ],
            "image/png": "[encoded data removed]"
          },
          "metadata": {}
        }
      ]
    },
    {
      "cell_type": "code",
      "source": [],
      "metadata": {
        "id": "ZIDFI2nsaCw3"
      },
      "execution_count": null,
      "outputs": []
    }
  ]
}